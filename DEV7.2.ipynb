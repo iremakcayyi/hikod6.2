{
 "cells": [
  {
   "cell_type": "code",
   "execution_count": 1,
   "id": "5bf43d44",
   "metadata": {},
   "outputs": [],
   "source": [
    "import numpy as np\n"
   ]
  },
  {
   "cell_type": "code",
   "execution_count": 2,
   "id": "d0487689",
   "metadata": {},
   "outputs": [],
   "source": [
    "array_bir = np.array([10, 20, 30, 40, 50])"
   ]
  },
  {
   "cell_type": "code",
   "execution_count": 3,
   "id": "fc14f33a",
   "metadata": {},
   "outputs": [
    {
     "name": "stdout",
     "output_type": "stream",
     "text": [
      "Bir boyutlu array boyutu: 1\n"
     ]
    }
   ],
   "source": [
    "print(\"Bir boyutlu array boyutu:\", array_bir.ndim)"
   ]
  },
  {
   "cell_type": "code",
   "execution_count": 4,
   "id": "7ef9e6c0",
   "metadata": {},
   "outputs": [
    {
     "name": "stdout",
     "output_type": "stream",
     "text": [
      "Bir boyutlu array eleman sayısı: 5\n"
     ]
    }
   ],
   "source": [
    "print(\"Bir boyutlu array eleman sayısı:\", array_bir.size)\n"
   ]
  },
  {
   "cell_type": "code",
   "execution_count": 5,
   "id": "d179fb1f",
   "metadata": {},
   "outputs": [],
   "source": [
    "array_iki = np.array([[10, 20, 30], [40, 50, 60]])"
   ]
  },
  {
   "cell_type": "code",
   "execution_count": 6,
   "id": "8f90a31a",
   "metadata": {},
   "outputs": [
    {
     "name": "stdout",
     "output_type": "stream",
     "text": [
      "İki boyutlu array boyutu: 2\n"
     ]
    }
   ],
   "source": [
    "print(\"İki boyutlu array boyutu:\", array_iki.ndim)"
   ]
  },
  {
   "cell_type": "code",
   "execution_count": 7,
   "id": "4d3df9e4",
   "metadata": {},
   "outputs": [
    {
     "name": "stdout",
     "output_type": "stream",
     "text": [
      "İki boyutlu array eleman sayısı: 6\n"
     ]
    }
   ],
   "source": [
    "print(\"İki boyutlu array eleman sayısı:\", array_iki.size)"
   ]
  },
  {
   "cell_type": "code",
   "execution_count": 8,
   "id": "d5e3bbda",
   "metadata": {},
   "outputs": [
    {
     "name": "stdout",
     "output_type": "stream",
     "text": [
      "İki boyutlu array satır-sütun: (2, 3)\n"
     ]
    }
   ],
   "source": [
    "print(\"İki boyutlu array satır-sütun:\", array_iki.shape)"
   ]
  },
  {
   "cell_type": "code",
   "execution_count": 9,
   "id": "d309e740",
   "metadata": {},
   "outputs": [],
   "source": [
    "array_uc = np.array([[[10, 20], [30, 40]], [[50, 60], [70, 80]]])"
   ]
  },
  {
   "cell_type": "code",
   "execution_count": 10,
   "id": "7a36b698",
   "metadata": {},
   "outputs": [
    {
     "name": "stdout",
     "output_type": "stream",
     "text": [
      "Üç boyutlu array boyutu: 3\n"
     ]
    }
   ],
   "source": [
    "print(\"Üç boyutlu array boyutu:\", array_uc.ndim)"
   ]
  },
  {
   "cell_type": "code",
   "execution_count": 11,
   "id": "6144e998",
   "metadata": {},
   "outputs": [
    {
     "name": "stdout",
     "output_type": "stream",
     "text": [
      "Üç boyutlu array eleman sayısı: 8\n"
     ]
    }
   ],
   "source": [
    "print(\"Üç boyutlu array eleman sayısı:\", array_uc.size)"
   ]
  },
  {
   "cell_type": "code",
   "execution_count": 12,
   "id": "ee5bb986",
   "metadata": {},
   "outputs": [
    {
     "name": "stdout",
     "output_type": "stream",
     "text": [
      "Üç boyutlu array boyut bilgisi: (2, 2, 2)\n"
     ]
    }
   ],
   "source": [
    "print(\"Üç boyutlu array boyut bilgisi:\", array_uc.shape)"
   ]
  },
  {
   "cell_type": "code",
   "execution_count": 13,
   "id": "f5d0185e",
   "metadata": {},
   "outputs": [
    {
     "name": "stdout",
     "output_type": "stream",
     "text": [
      "Bir boyutlu array indexleme: 30\n"
     ]
    }
   ],
   "source": [
    "print(\"Bir boyutlu array indexleme:\", array_bir[2])"
   ]
  },
  {
   "cell_type": "code",
   "execution_count": 14,
   "id": "5c4232f3",
   "metadata": {},
   "outputs": [
    {
     "name": "stdout",
     "output_type": "stream",
     "text": [
      "İki boyutlu array indexleme: 60\n"
     ]
    }
   ],
   "source": [
    "print(\"İki boyutlu array indexleme:\", array_iki[1, 2])"
   ]
  },
  {
   "cell_type": "code",
   "execution_count": 15,
   "id": "b9325f44",
   "metadata": {},
   "outputs": [
    {
     "name": "stdout",
     "output_type": "stream",
     "text": [
      "Üç boyutlu array indexleme: 60\n"
     ]
    }
   ],
   "source": [
    "print(\"Üç boyutlu array indexleme:\", array_uc[1, 0, 1])"
   ]
  },
  {
   "cell_type": "code",
   "execution_count": 16,
   "id": "055bb964",
   "metadata": {},
   "outputs": [
    {
     "name": "stdout",
     "output_type": "stream",
     "text": [
      "Bir boyutlu array dilimleme: [20 30 40]\n"
     ]
    }
   ],
   "source": [
    "print(\"Bir boyutlu array dilimleme:\", array_bir[1:4])"
   ]
  },
  {
   "cell_type": "code",
   "execution_count": 17,
   "id": "ac0c91d3",
   "metadata": {},
   "outputs": [
    {
     "name": "stdout",
     "output_type": "stream",
     "text": [
      "İki boyutlu array dilimleme: [[20 30]\n",
      " [50 60]]\n"
     ]
    }
   ],
   "source": [
    "print(\"İki boyutlu array dilimleme:\", array_iki[:, 1:])"
   ]
  },
  {
   "cell_type": "code",
   "execution_count": 18,
   "id": "70b22825",
   "metadata": {},
   "outputs": [
    {
     "name": "stdout",
     "output_type": "stream",
     "text": [
      "Üç boyutlu array dilimleme: [[50 60]\n",
      " [70 80]]\n"
     ]
    }
   ],
   "source": [
    "print(\"Üç boyutlu array dilimleme:\", array_uc[1, :, :])"
   ]
  },
  {
   "cell_type": "code",
   "execution_count": 20,
   "id": "7604ca71",
   "metadata": {},
   "outputs": [],
   "source": [
    "sifirlar_array = np.zeros((2, 3))"
   ]
  },
  {
   "cell_type": "code",
   "execution_count": 21,
   "id": "edfcb91d",
   "metadata": {},
   "outputs": [
    {
     "name": "stdout",
     "output_type": "stream",
     "text": [
      "Sıfırlardan oluşan array:\n",
      " [[0. 0. 0.]\n",
      " [0. 0. 0.]]\n"
     ]
    }
   ],
   "source": [
    "print(\"Sıfırlardan oluşan array:\\n\", sifirlar_array)"
   ]
  },
  {
   "cell_type": "code",
   "execution_count": 22,
   "id": "26ef9120",
   "metadata": {},
   "outputs": [],
   "source": [
    "birler_array = np.ones((2, 3))"
   ]
  },
  {
   "cell_type": "code",
   "execution_count": 23,
   "id": "1341a8b5",
   "metadata": {},
   "outputs": [
    {
     "name": "stdout",
     "output_type": "stream",
     "text": [
      "Birlerden oluşan array:\n",
      " [[1. 1. 1.]\n",
      " [1. 1. 1.]]\n"
     ]
    }
   ],
   "source": [
    "print(\"Birlerden oluşan array:\\n\", birler_array)"
   ]
  },
  {
   "cell_type": "code",
   "execution_count": 24,
   "id": "2837150b",
   "metadata": {},
   "outputs": [],
   "source": [
    "birlesik_array = np.concatenate((sifirlar_array, birler_array), axis=1)"
   ]
  },
  {
   "cell_type": "code",
   "execution_count": 25,
   "id": "ff06b164",
   "metadata": {},
   "outputs": [
    {
     "name": "stdout",
     "output_type": "stream",
     "text": [
      "Birleştirilmiş array:\n",
      " [[0. 0. 0. 1. 1. 1.]\n",
      " [0. 0. 0. 1. 1. 1.]]\n"
     ]
    }
   ],
   "source": [
    "print(\"Birleştirilmiş array:\\n\", birlesik_array)"
   ]
  }
 ],
 "metadata": {
  "kernelspec": {
   "display_name": "Python 3 (ipykernel)",
   "language": "python",
   "name": "python3"
  },
  "language_info": {
   "codemirror_mode": {
    "name": "ipython",
    "version": 3
   },
   "file_extension": ".py",
   "mimetype": "text/x-python",
   "name": "python",
   "nbconvert_exporter": "python",
   "pygments_lexer": "ipython3",
   "version": "3.11.5"
  }
 },
 "nbformat": 4,
 "nbformat_minor": 5
}
